{
 "cells": [
  {
   "cell_type": "markdown",
   "metadata": {},
   "source": [
    "# **Homework 6 - TTK4255 Robotic Vision**\n",
    "Sindre Øversveen, Fabian Höldin"
   ]
  },
  {
   "cell_type": "markdown",
   "metadata": {},
   "source": [
    "## Part 1 (of 1)"
   ]
  },
  {
   "cell_type": "markdown",
   "metadata": {},
   "source": [
    "### Task 1.1\n",
    "Expressions 5 and 6 contain a factor $tan(\\theta)$, which has asymptotes $\\pm\\infty$ as $\\theta = \\pm\\pi (\\pm 180\\deg)$. This would result in a mapping from real 3D, spherical coordinates to pixel values of infinite size, which is of course impossible. This in turn makes inverse mapping impossible, and therefore problematic."
   ]
  },
  {
   "cell_type": "markdown",
   "metadata": {},
   "source": [
    "### Task 1.2\n",
    "**a)** With downscaling, one wants to preserve the structure of the image dispite the reduction in pixel numbers. The parameters that need to be changed, are thus thus those who depend on the image resulution. These are:\n",
    "- $c_{x} and c_{y}$, the center point in pixel coordinates, must be halved.\n",
    "- $f_{x} and f_{y}$, which are dependent on the pixel density, must be halved.\n",
    "\n",
    "The distortion parameters need not be altered, as their effect on the pixels are already affected by $f$.\n",
    "\n",
    "**b)** Cropping is an operation usually performed on an image already taken. In this case, it would not affect any of the paramteres."
   ]
  },
  {
   "cell_type": "markdown",
   "metadata": {},
   "source": [
    "### Task 1.3\n",
    "For pure radial distortion, with only 1 parameter, the distortion is expressed as such: $\\delta_{i} = k_{1}r^2i$ and the pixel of a given camera coordinate will be $u = f_{x}(x + k_{1}r^2x)$. From this expression, it is clear to see that the resulting pixel values of camera points further from the origin, will be inflated positively if $k_{1}$ is positive and vice versa. \n",
    "\n",
    "Thus, the left image has a positive k and the right image has a negative k."
   ]
  },
  {
   "cell_type": "markdown",
   "metadata": {},
   "source": [
    "### Task 1.4\n",
    "The camera / intrinsic matrix contains 5 unknown variables. Distortion effects are represented by another 5 variables. Each of the N images has 6 extrinsic variables, representing rotation and translation. Combined, the total number of variables to estimate will be $5 + (3 + 2) + N6$."
   ]
  },
  {
   "cell_type": "markdown",
   "metadata": {},
   "source": [
    "### Task 1.5\n",
    "Normally, the metrics of the object's size are needed in order to estimate the camera's focal length. However for the checkerboard, this isn't the case - the equidistant spacing of the points on the assumed flat surface, means this information can be extrapolated from purely the extrinsics of the object. That is, by looking at the size of the object relative to the total image and how this changes as the pbject rotates, a unique estimate for focal length can be extracted."
   ]
  },
  {
   "cell_type": "markdown",
   "metadata": {},
   "source": [
    "### Task 1.6\n",
    "Imagine, if you will, a calibration run where all the images are taken from a roughly frontoparallel angle. This run may produce an excellent reprojection error score, and even accurately estimate the lens distortion - but the resulting calibration would still likely be rather useless as, for instance, the focal length estimation requires foreshortnening to be accurate. Thus the recalibration error may decieve you on the true performance of the calibration."
   ]
  },
  {
   "cell_type": "markdown",
   "metadata": {},
   "source": [
    "### Task 1.7\n",
    "Even without using the pinhole model equations, the reason why you need perspective foreshortening is that you need foreshortening to estimate the focal length. With foreshortening, you can estimate the pose (rotation, specifically) in the object and observe how a change in the object's angle causes a change in a point's pixel coordinate. From this, one can estimate the focal length."
   ]
  }
 ],
 "metadata": {
  "interpreter": {
   "hash": "e2c0ef728c5394811ba98125884776c088737edaec268d3af22f1ef4ac037347"
  },
  "kernelspec": {
   "display_name": "Python 3.10.1 64-bit",
   "language": "python",
   "name": "python3"
  },
  "language_info": {
   "name": "python",
   "version": "3.10.1"
  },
  "orig_nbformat": 4
 },
 "nbformat": 4,
 "nbformat_minor": 2
}
